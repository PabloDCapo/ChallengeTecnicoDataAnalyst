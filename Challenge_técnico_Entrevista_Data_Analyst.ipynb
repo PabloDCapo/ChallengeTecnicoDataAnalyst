{
  "cells": [
    {
      "cell_type": "code",
      "source": [
        "import requests\n",
        "\n",
        "def wget(url):\n",
        "    r = requests.get(url, allow_redirects=True)\n",
        "    with open(url[url.rfind('/') + 1::], 'wb') as f:\n",
        "        f.write(r.content)\n",
        "\n",
        "wget(\"https://cdn.buenosaires.gob.ar/datosabiertos/datasets/ministerio-de-economia-y-finanzas/buenos-aires-compras/bac_anual.csv\")"
      ],
      "metadata": {
        "id": "1teF3xaoOGrj"
      },
      "execution_count": null,
      "outputs": []
    },
    {
      "cell_type": "code",
      "source": [
        "import numpy as np\n",
        "\n",
        "import pandas as pd\n",
        "\n",
        "datos = pd.read_csv(\"bac_anual.csv\")"
      ],
      "metadata": {
        "colab": {
          "base_uri": "https://localhost:8080/"
        },
        "id": "-UEdbZ2zO2ZH",
        "outputId": "7aec7436-89f3-4e4c-e7e9-281fe05cb2db"
      },
      "execution_count": null,
      "outputs": [
        {
          "output_type": "stream",
          "name": "stderr",
          "text": [
            "/usr/local/lib/python3.7/dist-packages/IPython/core/interactiveshell.py:3326: DtypeWarning: Columns (23,24,25,28,109,110,111,112) have mixed types.Specify dtype option on import or set low_memory=False.\n",
            "  exec(code_obj, self.user_global_ns, self.user_ns)\n"
          ]
        }
      ]
    },
    {
      "cell_type": "code",
      "source": [
        "### Quedarse con columnas elegidas\n",
        "datos2 = datos[['tender/title', 'tender/value/amount', 'tender/procuringEntity/name', 'tender/procurementMethodDetails', 'tender/mainProcurementCategory', 'tender/tenderPeriod/startDate', 'tender/tenderPeriod/endDate', 'tender/enquiryPeriod/startDate', 'tender/enquiryPeriod/endDate', 'tender/items/0/description', 'tender/items/0/unit/value/amount', 'parties/0/name']]\n"
      ],
      "metadata": {
        "id": "8mnygF7tPboQ"
      },
      "execution_count": null,
      "outputs": []
    },
    {
      "cell_type": "code",
      "source": [
        "#datos2.info()"
      ],
      "metadata": {
        "id": "ttR1DYrNtvHK"
      },
      "execution_count": null,
      "outputs": []
    },
    {
      "cell_type": "code",
      "source": [
        "# Eliminar filas con el 50% de datos vacíos\n",
        "datos2= datos2.dropna(how='any',axis=0,thresh=datos2.shape[1]*0.5)\n",
        "#datos2.info()"
      ],
      "metadata": {
        "id": "RNBFivWuLu4c"
      },
      "execution_count": null,
      "outputs": []
    },
    {
      "cell_type": "code",
      "source": [
        "#Completando datos vacíos\n",
        "datos2 = datos2.fillna({'tender/procuringEntity/name': 'No especificado', 'parties/0/name': 'No especificado'})\n",
        "#datos2.info()"
      ],
      "metadata": {
        "id": "QlFtliGQritB"
      },
      "execution_count": null,
      "outputs": []
    },
    {
      "cell_type": "code",
      "source": [
        "# Pasando fecha a tipo datetime y eliminando timezone\n",
        "def a_fecha(dataframe, columna):\n",
        "  dataframe[columna] = pd.to_datetime(dataframe[columna], errors = 'coerce') #pasando a datetime\n",
        "  dataframe[columna] = dataframe[columna].dt.tz_localize(None)  #eliminando timezone\n",
        "\n",
        "a_fecha(datos2,'tender/tenderPeriod/startDate')\n",
        "a_fecha(datos2,'tender/tenderPeriod/endDate')\n",
        "a_fecha(datos2,'tender/enquiryPeriod/startDate')\n",
        "a_fecha(datos2,'tender/enquiryPeriod/endDate')\n",
        "#datos2.head(2)"
      ],
      "metadata": {
        "id": "ss_jy6eL2b-7"
      },
      "execution_count": null,
      "outputs": []
    },
    {
      "cell_type": "code",
      "source": [
        "# Creando Csv)\n",
        "datos2.to_csv('bac_anual_limpio.csv')"
      ],
      "metadata": {
        "id": "7X5GdN2TuNfj"
      },
      "execution_count": null,
      "outputs": []
    },
    {
      "cell_type": "code",
      "source": [
        "# Creando Excel\n",
        "datos2.to_excel('bac_anual_limpio.xlsx')"
      ],
      "metadata": {
        "id": "Bzt8PlCJul-p"
      },
      "execution_count": null,
      "outputs": []
    },
    {
      "cell_type": "code",
      "source": [
        "# Conectando con Drive\n",
        "from google.colab import drive\n",
        "drive.mount('drive')"
      ],
      "metadata": {
        "colab": {
          "base_uri": "https://localhost:8080/"
        },
        "id": "w8UEzAPn2lu3",
        "outputId": "787c5235-4d43-48af-d1a9-b714075c7b35"
      },
      "execution_count": null,
      "outputs": [
        {
          "output_type": "stream",
          "name": "stdout",
          "text": [
            "Mounted at drive\n"
          ]
        }
      ]
    },
    {
      "cell_type": "code",
      "source": [
        "# Subiendo Excel a Drive\n",
        "!cp bac_anual_limpio.xlsx \"drive/My Drive/\""
      ],
      "metadata": {
        "id": "LKWeo7b02xOy"
      },
      "execution_count": null,
      "outputs": []
    },
    {
      "cell_type": "code",
      "source": [
        "# Subiendo CSV a Drive\n",
        "!cp bac_anual_limpio.csv \"drive/My Drive/\""
      ],
      "metadata": {
        "id": "Cd5TuLqM7fWR"
      },
      "execution_count": null,
      "outputs": []
    }
  ],
  "metadata": {
    "colab": {
      "provenance": []
    },
    "kernelspec": {
      "display_name": "Python 3",
      "name": "python3"
    },
    "language_info": {
      "name": "python"
    }
  },
  "nbformat": 4,
  "nbformat_minor": 0
}